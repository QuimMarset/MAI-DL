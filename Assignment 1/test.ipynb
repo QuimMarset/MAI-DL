{
 "cells": [
  {
   "cell_type": "code",
   "execution_count": null,
   "metadata": {},
   "outputs": [],
   "source": [
    "import pandas as pd\n",
    "import os\n",
    "\n",
    "path = './MAMe_metadata/MAMe_labels.csv'"
   ]
  },
  {
   "cell_type": "code",
   "execution_count": null,
   "metadata": {},
   "outputs": [],
   "source": [
    "dataframe = pd.read_csv(path, header=None)"
   ]
  },
  {
   "cell_type": "code",
   "execution_count": null,
   "metadata": {},
   "outputs": [],
   "source": [
    "dict(zip(dataframe[1], dataframe[0]))"
   ]
  },
  {
   "cell_type": "code",
   "execution_count": null,
   "metadata": {},
   "outputs": [],
   "source": [
    "dataframe.set_index(1)[0].to_dict()"
   ]
  },
  {
   "cell_type": "code",
   "execution_count": null,
   "metadata": {},
   "outputs": [],
   "source": [
    "image_names = dataframe['Image file'].to_numpy()"
   ]
  },
  {
   "cell_type": "code",
   "execution_count": null,
   "metadata": {},
   "outputs": [],
   "source": [
    "import cv2\n",
    "\n",
    "images_path = os.path.join('./', 'MAMe_data_256', 'data_256')\n",
    "\n",
    "are_all_256 = True\n",
    "\n",
    "for image_name in image_names:\n",
    "    image_path = os.path.join(images_path, image_name)\n",
    "    image = cv2.imread(image_path)\n",
    "\n",
    "    if image is None:\n",
    "        print(image_name)\n",
    "\n",
    "    image = cv2.cvtColor(image, cv2.COLOR_BGR2RGB)\n",
    "\n",
    "    if image.shape != (256, 256, 3):\n",
    "        are_all_256 = False\n",
    "\n",
    "\n",
    "print(are_all_256)"
   ]
  },
  {
   "cell_type": "code",
   "execution_count": null,
   "metadata": {},
   "outputs": [],
   "source": [
    "import logging\n",
    "from PIL import Image\n",
    "from PIL import UnidentifiedImageError\n",
    "\n",
    "\n",
    "for image_name in image_names:\n",
    "    image_path = os.path.join(images_path, image_name)\n",
    "\n",
    "    try:\n",
    "        img = Image.open(image_path)\n",
    "    \n",
    "    except UnidentifiedImageError as e:\n",
    "        logging.warning(e)\n",
    "        logging.warning(f'Detected malformatted image: {image_name}. Skipping.')\n",
    "        continue\n",
    "    \n",
    "    if img.mode == 'RGBA':\n",
    "        logging.warning(f'Detected RGBA: {image_name}. Converting into RGB.')\n",
    "        \n",
    "    \n",
    "    if img.mode == 'P':\n",
    "        logging.warning(f'Detected P: {image_name}. Converting into RGB.')\n",
    "       \n",
    "    \n",
    "    if img.mode == 'L':\n",
    "        logging.warning(f'Detected BW image: {image_name}')\n"
   ]
  },
  {
   "cell_type": "code",
   "execution_count": null,
   "metadata": {},
   "outputs": [],
   "source": [
    "img.show()"
   ]
  },
  {
   "cell_type": "code",
   "execution_count": null,
   "metadata": {},
   "outputs": [],
   "source": [
    "'456.png Yep'.strip().split()"
   ]
  },
  {
   "cell_type": "code",
   "execution_count": 3,
   "metadata": {},
   "outputs": [],
   "source": [
    "from tensorflow import keras\n",
    "import tensorflow as tf\n",
    "\n",
    "model = keras.Sequential()\n",
    "model.add(keras.layers.Conv2D(8, (3, 3), activation='relu', input_shape=(256,256,3)))\n",
    "model.add(keras.layers.MaxPooling2D(pool_size=(2, 2)))\n",
    "model.add(keras.layers.Conv2D(16, 3, 3, activation='relu'))\n",
    "model.add(keras.layers.MaxPooling2D(pool_size=(2, 2)))\n",
    "model.add(keras.layers.Flatten())\n",
    "model.add(keras.layers.Dense(8, activation='relu'))\n",
    "model.add(keras.layers.Dense(10, activation=(tf.nn.softmax)))"
   ]
  },
  {
   "cell_type": "code",
   "execution_count": 4,
   "metadata": {},
   "outputs": [],
   "source": [
    "model_json = model.to_json()"
   ]
  },
  {
   "cell_type": "code",
   "execution_count": 12,
   "metadata": {},
   "outputs": [],
   "source": [
    "import json\n",
    "with open('model.json', 'w') as json_file:\n",
    "    json.dump(json.loads(model_json), json_file, indent=4)"
   ]
  },
  {
   "cell_type": "code",
   "execution_count": 4,
   "metadata": {},
   "outputs": [
    {
     "data": {
      "text/plain": [
       "(array([1, 2, 3, 4, 5]),\n",
       " array([0, 1, 2, 6, 7], dtype=int64),\n",
       " array([4, 1, 2, 1, 1], dtype=int64))"
      ]
     },
     "execution_count": 4,
     "metadata": {},
     "output_type": "execute_result"
    }
   ],
   "source": [
    "import numpy as np\n",
    "result = np.unique([1,2,3,1,3,1,4,5,1], return_counts=True)\n",
    "result"
   ]
  },
  {
   "cell_type": "code",
   "execution_count": null,
   "metadata": {},
   "outputs": [],
   "source": []
  }
 ],
 "metadata": {
  "kernelspec": {
   "display_name": "Python 3.8.12 ('base')",
   "language": "python",
   "name": "python3"
  },
  "language_info": {
   "codemirror_mode": {
    "name": "ipython",
    "version": 3
   },
   "file_extension": ".py",
   "mimetype": "text/x-python",
   "name": "python",
   "nbconvert_exporter": "python",
   "pygments_lexer": "ipython3",
   "version": "3.8.12"
  },
  "orig_nbformat": 4,
  "vscode": {
   "interpreter": {
    "hash": "0700c7f74b45c332d3cae75f71229e241bbc846b934be310d892912689fa2754"
   }
  }
 },
 "nbformat": 4,
 "nbformat_minor": 2
}
