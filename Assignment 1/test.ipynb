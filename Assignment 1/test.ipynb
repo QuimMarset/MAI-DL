{
 "cells": [
  {
   "cell_type": "code",
   "execution_count": null,
   "metadata": {},
   "outputs": [],
   "source": [
    "import pandas as pd\n",
    "import os\n",
    "\n",
    "path = './MAMe_metadata/MAMe_labels.csv'"
   ]
  },
  {
   "cell_type": "code",
   "execution_count": null,
   "metadata": {},
   "outputs": [],
   "source": [
    "dataframe = pd.read_csv(path, header=None)"
   ]
  },
  {
   "cell_type": "code",
   "execution_count": null,
   "metadata": {},
   "outputs": [],
   "source": [
    "dict(zip(dataframe[1], dataframe[0]))"
   ]
  },
  {
   "cell_type": "code",
   "execution_count": null,
   "metadata": {},
   "outputs": [],
   "source": [
    "dataframe.set_index(1)[0].to_dict()"
   ]
  },
  {
   "cell_type": "code",
   "execution_count": null,
   "metadata": {},
   "outputs": [],
   "source": [
    "image_names = dataframe['Image file'].to_numpy()"
   ]
  },
  {
   "cell_type": "code",
   "execution_count": null,
   "metadata": {},
   "outputs": [],
   "source": [
    "import cv2\n",
    "\n",
    "images_path = os.path.join('./', 'MAMe_data_256', 'data_256')\n",
    "\n",
    "are_all_256 = True\n",
    "\n",
    "for image_name in image_names:\n",
    "    image_path = os.path.join(images_path, image_name)\n",
    "    image = cv2.imread(image_path)\n",
    "\n",
    "    if image is None:\n",
    "        print(image_name)\n",
    "\n",
    "    image = cv2.cvtColor(image, cv2.COLOR_BGR2RGB)\n",
    "\n",
    "    if image.shape != (256, 256, 3):\n",
    "        are_all_256 = False\n",
    "\n",
    "\n",
    "print(are_all_256)"
   ]
  },
  {
   "cell_type": "code",
   "execution_count": null,
   "metadata": {},
   "outputs": [],
   "source": [
    "import logging\n",
    "from PIL import Image\n",
    "from PIL import UnidentifiedImageError\n",
    "\n",
    "\n",
    "for image_name in image_names:\n",
    "    image_path = os.path.join(images_path, image_name)\n",
    "\n",
    "    try:\n",
    "        img = Image.open(image_path)\n",
    "    \n",
    "    except UnidentifiedImageError as e:\n",
    "        logging.warning(e)\n",
    "        logging.warning(f'Detected malformatted image: {image_name}. Skipping.')\n",
    "        continue\n",
    "    \n",
    "    if img.mode == 'RGBA':\n",
    "        logging.warning(f'Detected RGBA: {image_name}. Converting into RGB.')\n",
    "        \n",
    "    \n",
    "    if img.mode == 'P':\n",
    "        logging.warning(f'Detected P: {image_name}. Converting into RGB.')\n",
    "       \n",
    "    \n",
    "    if img.mode == 'L':\n",
    "        logging.warning(f'Detected BW image: {image_name}')\n"
   ]
  },
  {
   "cell_type": "code",
   "execution_count": null,
   "metadata": {},
   "outputs": [],
   "source": [
    "img.show()"
   ]
  },
  {
   "cell_type": "code",
   "execution_count": null,
   "metadata": {},
   "outputs": [],
   "source": [
    "'456.png Yep'.strip().split()"
   ]
  },
  {
   "cell_type": "code",
   "execution_count": 3,
   "metadata": {},
   "outputs": [],
   "source": [
    "from tensorflow import keras\n",
    "import tensorflow as tf\n",
    "\n",
    "model = keras.Sequential()\n",
    "model.add(keras.layers.Conv2D(8, (3, 3), activation='relu', input_shape=(256,256,3)))\n",
    "model.add(keras.layers.MaxPooling2D(pool_size=(2, 2)))\n",
    "model.add(keras.layers.Conv2D(16, 3, 3, activation='relu'))\n",
    "model.add(keras.layers.MaxPooling2D(pool_size=(2, 2)))\n",
    "model.add(keras.layers.Flatten())\n",
    "model.add(keras.layers.Dense(8, activation='relu'))\n",
    "model.add(keras.layers.Dense(10, activation=(tf.nn.softmax)))"
   ]
  },
  {
   "cell_type": "code",
   "execution_count": 4,
   "metadata": {},
   "outputs": [],
   "source": [
    "model_json = model.to_json()"
   ]
  },
  {
   "cell_type": "code",
   "execution_count": 12,
   "metadata": {},
   "outputs": [],
   "source": [
    "import json\n",
    "with open('model.json', 'w') as json_file:\n",
    "    json.dump(json.loads(model_json), json_file, indent=4)"
   ]
  },
  {
   "cell_type": "code",
   "execution_count": 4,
   "metadata": {},
   "outputs": [
    {
     "data": {
      "text/plain": [
       "(array([1, 2, 3, 4, 5]),\n",
       " array([0, 1, 2, 6, 7], dtype=int64),\n",
       " array([4, 1, 2, 1, 1], dtype=int64))"
      ]
     },
     "execution_count": 4,
     "metadata": {},
     "output_type": "execute_result"
    }
   ],
   "source": [
    "import numpy as np\n",
    "result = np.unique([1,2,3,1,3,1,4,5,1], return_counts=True)\n",
    "result"
   ]
  },
  {
   "cell_type": "code",
   "execution_count": 43,
   "metadata": {},
   "outputs": [
    {
     "name": "stdout",
     "output_type": "stream",
     "text": [
      "(32, 29)\n"
     ]
    }
   ],
   "source": [
    "from models.basic_cnn import CNNModelWrapper\n",
    "\n",
    "input_shape = (256, 256, 3)\n",
    "kernel_size = 3\n",
    "filters_list = [16, 32, 64]\n",
    "use_batch_norm = True\n",
    "dropout_percentage = 0\n",
    "use_max_pooling = True\n",
    "dense_units_list = [128, 256]\n",
    "num_classes = 29\n",
    "\n",
    "model_wrapper = CNNModelWrapper(input_shape, kernel_size, filters_list, dense_units_list, use_batch_norm, dropout_percentage, use_max_pooling, num_classes)\n",
    "model_wrapper.save_summary('./')\n",
    "\n",
    "x = tf.constant(1.0, shape = (32, *input_shape), dtype=tf.float32)\n",
    "y = model_wrapper.model(x)\n",
    "print(y.shape)"
   ]
  },
  {
   "cell_type": "code",
   "execution_count": 1,
   "metadata": {},
   "outputs": [
    {
     "name": "stdout",
     "output_type": "stream",
     "text": [
      "[0.32905766 0.30947202 0.29506493]\n",
      "[0.18233408 0.15392433 0.11436046]\n",
      "[0.6191213  0.5868106  0.54119109] [0.26380283 0.26261466 0.26413966]\n",
      "[-1.09927721 -1.05586115 -0.93166705]\n",
      "[0.6911913  0.58612051 0.43296888]\n"
     ]
    }
   ],
   "source": [
    "import numpy as np\n",
    "from utils.file_io_utils import *\n",
    "from utils.image_utils import *\n",
    "\n",
    "mean_std = load_mean_std_from_npy(os.path.join('./', 'processed_dataset', 'train_mean_std.npy'))\n",
    "train_names = read_file_to_array(os.path.join('./', 'processed_dataset', 'dataset_splits', 'train_data.txt'))\n",
    "data_path = os.path.join('./', 'MAMe_data_256', 'data_256')\n",
    "\n",
    "image = load_image(data_path, train_names[1])\n",
    "image = image_to_float(image)\n",
    "\n",
    "print(np.mean(image, axis=(0, 1)))\n",
    "print(np.std(image, axis=(0, 1)))\n",
    "\n",
    "print(mean_std[0], mean_std[1])\n",
    "\n",
    "\n",
    "norm = (image - mean_std[0]) / mean_std[1]\n",
    "\n",
    "print(np.mean(norm, axis=(0, 1)))\n",
    "print(np.std(norm, axis=(0, 1)))"
   ]
  },
  {
   "cell_type": "code",
   "execution_count": 69,
   "metadata": {},
   "outputs": [
    {
     "name": "stdout",
     "output_type": "stream",
     "text": [
      "[0.27335929 0.22962311 0.15042509]\n",
      "[0.22910468 0.18631586 0.14312487]\n"
     ]
    }
   ],
   "source": [
    "print(np.mean(image, axis=(0, 1)))\n",
    "print(np.std(image, axis=(0, 1)))"
   ]
  },
  {
   "cell_type": "code",
   "execution_count": 3,
   "metadata": {},
   "outputs": [],
   "source": [
    "import tensorflow as tf\n",
    "\n",
    "def augment_image(image):\n",
    "    image = tf.image.random_brightness(image, 0.2)\n",
    "    image = tf.image.random_contrast(image, 0.5, 2.0)\n",
    "    image = tf.image.random_saturation(image, 0.75, 1.25)\n",
    "    image = tf.image.random_hue(image, 0.1)\n",
    "    image = tf.image.random_flip_left_right(image)\n",
    "    image = tf.image.random_flip_up_down(image)\n",
    "    return image\n",
    "\n",
    "\n",
    "image_augm = augment_image(image)\n"
   ]
  },
  {
   "cell_type": "code",
   "execution_count": 5,
   "metadata": {},
   "outputs": [
    {
     "data": {
      "text/plain": [
       "numpy.ndarray"
      ]
     },
     "execution_count": 5,
     "metadata": {},
     "output_type": "execute_result"
    }
   ],
   "source": [
    "type(image_augm.numpy())"
   ]
  },
  {
   "cell_type": "code",
   "execution_count": null,
   "metadata": {},
   "outputs": [],
   "source": []
  }
 ],
 "metadata": {
  "kernelspec": {
   "display_name": "Python 3.8.12 ('base')",
   "language": "python",
   "name": "python3"
  },
  "language_info": {
   "codemirror_mode": {
    "name": "ipython",
    "version": 3
   },
   "file_extension": ".py",
   "mimetype": "text/x-python",
   "name": "python",
   "nbconvert_exporter": "python",
   "pygments_lexer": "ipython3",
   "version": "3.8.12"
  },
  "orig_nbformat": 4,
  "vscode": {
   "interpreter": {
    "hash": "0700c7f74b45c332d3cae75f71229e241bbc846b934be310d892912689fa2754"
   }
  }
 },
 "nbformat": 4,
 "nbformat_minor": 2
}
