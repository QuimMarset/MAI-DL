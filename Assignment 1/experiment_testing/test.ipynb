{
 "cells": [
  {
   "cell_type": "code",
   "execution_count": 22,
   "metadata": {},
   "outputs": [
    {
     "name": "stdout",
     "output_type": "stream",
     "text": [
      "Model: \"model_4\"\n",
      "_________________________________________________________________\n",
      " Layer (type)                Output Shape              Param #   \n",
      "=================================================================\n",
      " input_6 (InputLayer)        [(None, 256, 256, 3)]     0         \n",
      "                                                                 \n",
      " conv_residual_batch_norm_bl  (None, 256, 256, 3)      46110     \n",
      " ock_6 (ConvResidualBatchNor                                     \n",
      " mBlock)                                                         \n",
      "                                                                 \n",
      "=================================================================\n",
      "Total params: 46,110\n",
      "Trainable params: 46,098\n",
      "Non-trainable params: 12\n",
      "_________________________________________________________________\n",
      "None\n"
     ]
    }
   ],
   "source": [
    "import tensorflow as tf\n",
    "from tensorflow import keras\n",
    "\n",
    "class ConvResidualBlock(keras.layers.Layer):\n",
    "\n",
    "    def __init__(self, kernel_size, filters, padding, activation, seed):\n",
    "        super().__init__()\n",
    "        initializer = keras.initializers.HeUniform(seed=seed)\n",
    "        self.conv_1 = keras.layers.Conv2D(kernel_size, filters[0], padding=padding, kernel_initializer=initializer)\n",
    "        self.conv_2 = keras.layers.Conv2D(kernel_size, filters[1], padding=padding, kernel_initializer=initializer)\n",
    "        self.activation = keras.layers.Activation(activation)\n",
    "\n",
    "\n",
    "    def call(self, inputs):\n",
    "        x = self.conv_1(inputs)\n",
    "        x = self.activation(x)\n",
    "        x = self.conv_2(x)\n",
    "        x = x + inputs\n",
    "        return self.activation(x)\n",
    "\n",
    "    def get_config(self):\n",
    "        return {\n",
    "            'name' : self._name,\n",
    "            'conv_1' : self.conv_1.get_config(),\n",
    "            'conv_2' : self.conv_2.get_config(),\n",
    "            'shared_activation' : self.activation.get_config()\n",
    "        }\n",
    "\n",
    "\n",
    "class ConvResidualBatchNormBlock(ConvResidualBlock):\n",
    "\n",
    "    def __init__(self, kernel_size, filters, padding, activation, seed):\n",
    "        super().__init__(kernel_size, filters, padding, activation, seed)\n",
    "        self.batch_norm_1 = keras.layers.BatchNormalization()\n",
    "        self.batch_norm_2 = keras.layers.BatchNormalization()\n",
    "\n",
    "\n",
    "    def call(self, inputs):\n",
    "        x = self.conv_1(inputs)\n",
    "        x = self.batch_norm_1(x)\n",
    "        x = self.activation(x)\n",
    "        x = self.conv_2(x)\n",
    "        x = self.batch_norm_2(x)\n",
    "        x = x + inputs\n",
    "        return self.activation(x)\n",
    "\n",
    "    def get_config(self):\n",
    "        return {\n",
    "            **super().get_config(),\n",
    "            'batch_norm_1' : self.batch_norm_1.get_config(),\n",
    "            'batch_norm_2' : self.batch_norm_2.get_config()\n",
    "        }\n",
    "\n",
    "\n",
    "\n",
    "layer = ConvResidualBatchNormBlock(3, [32, 64], 'same', 'relu', 1412)\n",
    "inp = keras.Input((256, 256, 3))\n",
    "\n",
    "model = keras.Model(inp, layer(inp))\n",
    "\n",
    "t = tf.constant(1.0, shape=(1, 256, 256, 3))\n",
    "model(t)\n",
    "\n",
    "print(model.summary(expand_nested=True))"
   ]
  },
  {
   "cell_type": "code",
   "execution_count": null,
   "metadata": {},
   "outputs": [],
   "source": [
    "from tensorflow import keras\n",
    "\n",
    "def create_conv_batch_norm_residual_block(kernel_size, filters, padding_type, activation, kernel_initializer):\n",
    "    input = keras.Input(shape=(256, 256, 3))\n",
    "    x = keras.layers.Conv2D(filters[0], kernel_size, padding=padding_type, activation=activation, kernel_initializer=kernel_initializer)(input)\n",
    "    x = keras.layers.BatchNormalization()(x)\n",
    "    x = keras.layers.Activation(activation)(x)\n",
    "    x = keras.layers.Conv2D(3, kernel_size, padding=padding_type, activation=activation, kernel_initializer=kernel_initializer)(x)\n",
    "    x = keras.layers.BatchNormalization()(x)\n",
    "    x = x + input\n",
    "    output = keras.layers.Activation(activation)(x)\n",
    "    return keras.Model(input, output)\n",
    "\n",
    "\n",
    "input = keras.Input(shape=(256, 256, 3))\n",
    "submodel = create_conv_batch_norm_residual_block(3, [32, 32], 'same', 'relu', keras.initializers.GlorotNormal())\n",
    "model = keras.Model(input, submodel(input))\n",
    "model.summary(expand_nested=True)"
   ]
  },
  {
   "cell_type": "code",
   "execution_count": 21,
   "metadata": {},
   "outputs": [],
   "source": [
    "from utils.file_io_utils import *\n",
    "from utils.paths_utils import *\n",
    "\n",
    "write_json_string(model.to_json(), join_path('./', 'model_architecture.json'))"
   ]
  },
  {
   "cell_type": "code",
   "execution_count": 18,
   "metadata": {},
   "outputs": [
    {
     "data": {
      "text/plain": [
       "'conv_residual_batch_norm_block_4'"
      ]
     },
     "execution_count": 18,
     "metadata": {},
     "output_type": "execute_result"
    }
   ],
   "source": [
    "layer._name"
   ]
  },
  {
   "cell_type": "code",
   "execution_count": 13,
   "metadata": {},
   "outputs": [],
   "source": [
    "y = {'d' : {'f' : 4}}\n",
    "x = {'a' : {'b': 3}, 'c' : 3, **y}"
   ]
  },
  {
   "cell_type": "code",
   "execution_count": 14,
   "metadata": {},
   "outputs": [
    {
     "name": "stdout",
     "output_type": "stream",
     "text": [
      "{'a': {'b': 3}, 'c': 3, 'd': {'f': 4}}\n"
     ]
    }
   ],
   "source": [
    "print(x)"
   ]
  },
  {
   "cell_type": "code",
   "execution_count": null,
   "metadata": {},
   "outputs": [],
   "source": []
  }
 ],
 "metadata": {
  "kernelspec": {
   "display_name": "Python 3.8.12 ('base')",
   "language": "python",
   "name": "python3"
  },
  "language_info": {
   "codemirror_mode": {
    "name": "ipython",
    "version": 3
   },
   "file_extension": ".py",
   "mimetype": "text/x-python",
   "name": "python",
   "nbconvert_exporter": "python",
   "pygments_lexer": "ipython3",
   "version": "3.8.12"
  },
  "orig_nbformat": 4,
  "vscode": {
   "interpreter": {
    "hash": "0700c7f74b45c332d3cae75f71229e241bbc846b934be310d892912689fa2754"
   }
  }
 },
 "nbformat": 4,
 "nbformat_minor": 2
}
